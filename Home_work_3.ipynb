{
 "cells": [
  {
   "cell_type": "markdown",
   "id": "4c5300b0",
   "metadata": {
    "id": "4c5300b0"
   },
   "source": [
    "# Дз 3. Тестирование статистических гипотез"
   ]
  },
  {
   "cell_type": "markdown",
   "id": "e41ea851",
   "metadata": {
    "id": "e41ea851"
   },
   "source": [
    "<div class=\"alert alert-info\" role=\"alert\">\n",
    "\n",
    "Важно!\n",
    "\n",
    "* Плагиат карается обнулением работы\n",
    "* При использовании чужого кода из открытых источников необходимо указать ссылку на источник\n",
    "* В каждой задаче необходимо обосновывать выбор статистического критерия, формулировать нулевую и альтернативную гипотезу и делать интерпретацию получившихся результатов, а также содержательный вывод.\n",
    "* Весь текст оформляется строго в ячейках типа markdown"
   ]
  },
  {
   "cell_type": "code",
   "execution_count": 1,
   "id": "9ddf69e1",
   "metadata": {},
   "outputs": [],
   "source": [
    "import numpy as np\n",
    "import pandas as pd\n",
    "import seaborn as sns\n",
    "import statsmodels as sm\n",
    "import matplotlib.pyplot as plt\n",
    "from scipy import stats\n",
    "from scipy.stats import norm\n",
    "import scipy"
   ]
  },
  {
   "cell_type": "markdown",
   "id": "e463f5b5",
   "metadata": {
    "id": "e463f5b5"
   },
   "source": [
    "## Задача 1. Осьминог Пауль (2 балла)\n",
    "\n",
    "\n",
    "В период с 2008 по 2010 год в Германии жил Осьминог Пауль, который был известен тем, что мог предсказывать результаты матчей с участием сборной Германии.     \n",
    "   \n",
    "В таблице ниже вы можете видеть результаты его предсказаний: \n"
   ]
  },
  {
   "cell_type": "markdown",
   "id": "63504b80",
   "metadata": {
    "id": "63504b80"
   },
   "source": [
    "<a href=\"https://ibb.co/VWnc5yG\"><img src=\"https://i.ibb.co/QFS3tBV/image.jpg\" alt=\"image\" border=\"0\"></a>"
   ]
  },
  {
   "cell_type": "markdown",
   "id": "346f6376",
   "metadata": {
    "id": "346f6376"
   },
   "source": [
    "Если считать, что случайным образом мы угадывали ли бы 50% матчей, то можно ли утверждать, что осьминог Пауль был талантливым экстрасенсом со способностями к предсказаниям?"
   ]
  },
  {
   "cell_type": "markdown",
   "id": "141c03ad",
   "metadata": {},
   "source": [
    "Предположим, что осьминог выбирает наугад, тогда:\n",
    "\n",
    "Гипотеза Н0: осьминог угадывает наугад   ->   p = 1/2  (исходы : угадал/не угадал). Данная величина имеет распределение Бернулли\n",
    "\n",
    "Гипотеза Н1:\n",
    "\n",
    " а) Осьминог угадывает не наугад  (двусторонняя)\n",
    " \n",
    " б) Осьминог угадывает лучше, чем наугад  (односторонняя)\n",
    " \n",
    " При решении задачи использовались конспекты семинара 6.\n"
   ]
  },
  {
   "cell_type": "code",
   "execution_count": 2,
   "id": "f208e504",
   "metadata": {
    "id": "9072470f"
   },
   "outputs": [
    {
     "data": {
      "text/plain": [
       "0.0224609375"
      ]
     },
     "execution_count": 2,
     "metadata": {},
     "output_type": "execute_result"
    }
   ],
   "source": [
    "# Биномиальное распределение. рассматриваем двустороннюю альтернативную гипотезу.\n",
    "p = 1/2    # вероятность выбрать наугад\n",
    "n = 13     #кол-во матчей\n",
    "F_H0 = stats.binom(n, 0.5)\n",
    "stats.binom_test(11, 13, 0.5, alternative = 'two-sided')    # число 11 в формуле - это кол-во угадываний"
   ]
  },
  {
   "cell_type": "markdown",
   "id": "d3d6dcf2",
   "metadata": {},
   "source": [
    "    Получилось, что при проверке двусторонней гипотезы p-value = 2.2%. Это значит, что на уровне значимости 1% мы не отвергаем Н0, но на уровнях выше, мы отвергаем Н0."
   ]
  },
  {
   "cell_type": "code",
   "execution_count": 3,
   "id": "25d902d5",
   "metadata": {},
   "outputs": [
    {
     "data": {
      "text/plain": [
       "0.01123046875"
      ]
     },
     "execution_count": 3,
     "metadata": {},
     "output_type": "execute_result"
    }
   ],
   "source": [
    "# Биномиальное распределение. рассматриваем одностороннюю альтернативную гипотезу.\n",
    "stats.binom_test(11, 13, 0.5, alternative = 'greater')   "
   ]
  },
  {
   "cell_type": "markdown",
   "id": "27bdc4b5",
   "metadata": {},
   "source": [
    "    Получилось, что при проверке односторонне гипотезы p-value = 1.1%. Это значит, что на уровне значимости 1% мы не отвергаем Н0, но на уровнях выше, мы отвергаем Н0. Другими словами, мы отвергли гипотезу о том, что осьминог Пуаль угадывет исходы с вероятностью меньше, чем 0.5 (угадывает наугад). Значит, осьминог Пауль правильно угадывает исходы с вероятностью больше, чем 0.5 => осьминог угадывает лучше, чем наугад."
   ]
  },
  {
   "cell_type": "markdown",
   "id": "de312a8f",
   "metadata": {
    "id": "de312a8f"
   },
   "source": [
    "## Задача 2.  Корм и котики (2 балла)\n",
    "\n",
    "    \n",
    "Новый корм для котиков рекламируется с помощью рекламного баннера. Отдел маркетинга разработал для рекламы новый баннер. Они считают, что он более красивый. Перед фирмой возникла необходимость проверить какой из двух баннеров лучше.\n",
    "\n",
    "Для этого была создана специальная веб-форма. В этой веб-форме людям по очереди демонстрировали оба баннера и просили поставить лайк, если баннер нравится человеку. Если человеку нравятся оба баннера, он может поставить два лайка. Если ему не нравится ни один баннер, он может не ставить лайки вовсе. Собранные в конечном итоге данные находятся в табличке.\n",
    "\n",
    "Можно ли утверждать, что оба баннера одинаково хороши? Сформулируйте статистическую гипотезу для проверки того, что оба баннера выбирают одинаково часто. Проверьте ее и сделайте выводы.\n"
   ]
  },
  {
   "cell_type": "code",
   "execution_count": 2,
   "id": "167378f2",
   "metadata": {
    "id": "167378f2"
   },
   "outputs": [
    {
     "data": {
      "text/html": [
       "<div>\n",
       "<style scoped>\n",
       "    .dataframe tbody tr th:only-of-type {\n",
       "        vertical-align: middle;\n",
       "    }\n",
       "\n",
       "    .dataframe tbody tr th {\n",
       "        vertical-align: top;\n",
       "    }\n",
       "\n",
       "    .dataframe thead th {\n",
       "        text-align: right;\n",
       "    }\n",
       "</style>\n",
       "<table border=\"1\" class=\"dataframe\">\n",
       "  <thead>\n",
       "    <tr style=\"text-align: right;\">\n",
       "      <th></th>\n",
       "      <th>Old_banner</th>\n",
       "      <th>New_banner</th>\n",
       "    </tr>\n",
       "  </thead>\n",
       "  <tbody>\n",
       "    <tr>\n",
       "      <th>0</th>\n",
       "      <td>1</td>\n",
       "      <td>1</td>\n",
       "    </tr>\n",
       "    <tr>\n",
       "      <th>1</th>\n",
       "      <td>0</td>\n",
       "      <td>0</td>\n",
       "    </tr>\n",
       "    <tr>\n",
       "      <th>2</th>\n",
       "      <td>0</td>\n",
       "      <td>0</td>\n",
       "    </tr>\n",
       "    <tr>\n",
       "      <th>3</th>\n",
       "      <td>0</td>\n",
       "      <td>0</td>\n",
       "    </tr>\n",
       "    <tr>\n",
       "      <th>4</th>\n",
       "      <td>0</td>\n",
       "      <td>0</td>\n",
       "    </tr>\n",
       "  </tbody>\n",
       "</table>\n",
       "</div>"
      ],
      "text/plain": [
       "   Old_banner  New_banner\n",
       "0           1           1\n",
       "1           0           0\n",
       "2           0           0\n",
       "3           0           0\n",
       "4           0           0"
      ]
     },
     "execution_count": 2,
     "metadata": {},
     "output_type": "execute_result"
    }
   ],
   "source": [
    "df = pd.read_csv('banner_click_stat.csv', sep='\\t') \n",
    "df.rename(columns={'0': 'Old_banner', '0.1': 'New_banner'}, inplace=True)\n",
    "df.head()"
   ]
  },
  {
   "cell_type": "markdown",
   "id": "1bde85bb",
   "metadata": {},
   "source": [
    "##### Этап 1: формулировка гипотезы\n",
    "В задаче не дан уровень значимости, значит будем рассматривать уровень значимости равный 1%.\n",
    "\n",
    "Строим гипотезу о том, что респонденты выбирают одинаково часто баннеры. Разность медиан обоих выборок должна будет равняться нулю (так как выборки должны быть равными). \n",
    "\n",
    "Проверяем гипотезу о том, совпадают ли медианы двух выборок:\n",
    "\n",
    "Н0: mu = 0     <-- нулевая гипотеза о том, что разность медиан обоих выборок равна нулю  (то есть оба баннера выбирают одинаково часто)\n",
    " \n",
    "Н1: mu != 0     <-- альтернативная гипотеза о том, что разность медиан обоих выборок не равна нулю (то есть оба баннера не выбирают одинаково часто)\n",
    "\n",
    "Поскольку решается гипотеза о равенстве, то имеем друстороннюю область\n"
   ]
  },
  {
   "cell_type": "code",
   "execution_count": 3,
   "id": "f30f9284",
   "metadata": {},
   "outputs": [
    {
     "data": {
      "image/png": "[encoded data removed]",
      "text/plain": [
       "<Figure size 432x288 with 2 Axes>"
      ]
     },
     "metadata": {
      "needs_background": "light"
     },
     "output_type": "display_data"
    }
   ],
   "source": [
    "# Визуализируем таблицу\n",
    "fig, ax = plt.subplots(1, 2, sharey = True)\n",
    "ax[0].hist(df['Old_banner'])\n",
    "ax[0].set_title('Old_banner')\n",
    "\n",
    "ax[1].hist(df['New_banner'])\n",
    "ax[1].set_title('New_banner')\n",
    "plt.show()"
   ]
  },
  {
   "cell_type": "markdown",
   "id": "c5753437",
   "metadata": {},
   "source": [
    "##### Этап 2: визуальный анализ имеющихся данных. Выбор критерия. \n",
    "Мы имеем две выборки: Old_banner и New_banner. Эти выборки связанные, так как наблюдаемые значения были получены от одной и той же группы респондентов.  \n",
    "Для связанных выборок существует несколько тестов: t-test – зависимые выборки(параметрический, ttest_rel()), Критерий Уилкоксона (непараметрический, wilcoxon()), Критерий Знаков (непараметрический, sign_test()).\n",
    "\n",
    "В связи с тем, что у нас биноминальное распределение, то выбирать тест нужно среди непараметрических: wilcoxon или sign_test.\n",
    "\n",
    "    wilcoxon () : используется для не больших выборок (до 50 наблюдаемых значений)\n",
    "    sign_test() : используется для больших выборок (от 50 наблюдаемых значений)\n",
    "\n",
    "Поскольку имеется 999 наблюдаемых значений, то есть большая выборка, то разумно использовать sign_test.\n",
    "\n",
    "https://youtu.be/IcLSKko2tsg"
   ]
  },
  {
   "cell_type": "code",
   "execution_count": 4,
   "id": "e8b8527d",
   "metadata": {},
   "outputs": [
    {
     "data": {
      "text/plain": [
       "Old_banner  New_banner\n",
       "0           0             939\n",
       "1           1              30\n",
       "0           1              23\n",
       "1           0               7\n",
       "dtype: int64"
      ]
     },
     "execution_count": 4,
     "metadata": {},
     "output_type": "execute_result"
    }
   ],
   "source": [
    "#посмотрим, сколько всего ответов, в зависимости от того, какой вариант ответа был выбран респондентом\n",
    "df.value_counts()"
   ]
  },
  {
   "cell_type": "markdown",
   "id": "5dbc296a",
   "metadata": {},
   "source": [
    "    Такми образом, мы имеем, что ни один банер не понравился 939 участникам опроса, 30 людям понравились оба баннера. 23 респондента сказали, что им понравился новый баннер, и только 7 чел. понравился старый баннер.\n",
    "    На глаз видно, что оба баннера не нравятся респондентам. "
   ]
  },
  {
   "cell_type": "markdown",
   "id": "3b8c413d",
   "metadata": {},
   "source": [
    "Однако есть один тонкий момет: из-за того, что надо решить одинаково ли часто проверяют баннеры, надо выкинуть повторяющиеся ответы респондентов. Дргуими словами, если респондент проголосовал за оба баннера , то его голос не считается, так как данный вариант ответа не влияет на показатель превосходства одного из баннеров. То есть нужно выкинуть парные ответы, и оставить только те, где респондент голосовал только за один баннер."
   ]
  },
  {
   "cell_type": "code",
   "execution_count": 3,
   "id": "dc25a4fb",
   "metadata": {},
   "outputs": [],
   "source": [
    "# Шаг 1. Выкинуть из данных голоса за оба баннера одновременно.\n",
    "# создадим новую переменную. цифра 1 - респондент выбрал старый баннер. 2 - выбрал новый баннер. слово 'NaN' - ода понравились. слово 'NaN' - оба не понравились . \n",
    "def my_funk(x):\n",
    "    if x.loc['Old_banner'] == x.loc['New_banner'] == 1:\n",
    "        return 'NaN'\n",
    "    elif x.loc['Old_banner'] == x.loc['New_banner'] == 0:    \n",
    "        return 'NaN'   \n",
    "    elif x.loc['Old_banner'] == 1:\n",
    "        return 1\n",
    "    elif x.loc['New_banner'] == 1:\n",
    "        return 2\n",
    "\n",
    "# Применим функцию\n",
    "df['Banner'] = df[['Old_banner', 'New_banner']].apply(my_funk, axis=1)\n"
   ]
  },
  {
   "cell_type": "code",
   "execution_count": 4,
   "id": "34decd53",
   "metadata": {},
   "outputs": [
    {
     "data": {
      "text/plain": [
       "Old_banner  New_banner\n",
       "0           1             23\n",
       "1           0              7\n",
       "dtype: int64"
      ]
     },
     "execution_count": 4,
     "metadata": {},
     "output_type": "execute_result"
    }
   ],
   "source": [
    "# Шаг 2. удалим все строки со словом 'NaN'. \n",
    "\n",
    "df = df.set_index('Banner')\n",
    "df = df.drop(['NaN'],axis = 0)\n",
    "\n",
    "df.head()\n",
    "df.value_counts()# теперь мы имееем 30 наблюдений, которые отражают распределение голосов только по одним банерам ."
   ]
  },
  {
   "cell_type": "code",
   "execution_count": 5,
   "id": "45dffecb",
   "metadata": {},
   "outputs": [
    {
     "name": "stdout",
     "output_type": "stream",
     "text": [
      "0    23\n",
      "1     7\n",
      "Name: Old_banner, dtype: int64\n",
      "1    23\n",
      "0     7\n",
      "Name: New_banner, dtype: int64\n"
     ]
    }
   ],
   "source": [
    "# Этап 3: Считаем отдельно по каждой из колонок, сколько мы имеем голосов за старый и сколько за новый баннеры.\n",
    "print(df[\"Old_banner\"].value_counts())\n",
    "print(df[\"New_banner\"].value_counts())\n"
   ]
  },
  {
   "cell_type": "markdown",
   "id": "ee7eb8d6",
   "metadata": {},
   "source": [
    "    Главное отличие этого кода от того, что был написан выше, это то, что до этого мы смотрели количество соотношений по всей таблице: 0-0, 1-1, 0-1, 1-0, а сейчас смотрим сумманоре число 0 и 1 по каждой из колонок. \n",
    "    На данный момент видно, что в колонке Old_banner мы имеем 37 голосов за и 962 против. В колонке New_banner мы имеем 53 голоса за баннер и 946 против. То есть новый баннер людям нравился чаще, чем старый, такая же зависимость прослеживалась и в результатах вышеприведенного кода.  \n",
    "    Для того, чтобы полностью согласиться или нет с данным утверждением протестируем гипотезу о том, что старый баннер выбирают также часто, как новый баннер "
   ]
  },
  {
   "cell_type": "code",
   "execution_count": 10,
   "id": "3231f8a7",
   "metadata": {},
   "outputs": [
    {
     "data": {
      "text/plain": [
       "(-8.0, 0.005222879350185395)"
      ]
     },
     "execution_count": 10,
     "metadata": {},
     "output_type": "execute_result"
    }
   ],
   "source": [
    "# Этап 4: считаем критерий\n",
    "from statsmodels.stats.descriptivestats import sign_test\n",
    "sign_test(df['Old_banner']-df['New_banner'])"
   ]
  },
  {
   "cell_type": "markdown",
   "id": "4ddb387d",
   "metadata": {},
   "source": [
    "    p-value = 0%    < 5%, 10%....\n",
    "    Это говорит о том, что на  уровне значимости 1% Н0  отвергается. Таким образом, на выбранном ранее уровне значимости (1%) медианы обоих выборок не совпадают, а значит, баннеры выбирают не одинаково. "
   ]
  },
  {
   "cell_type": "code",
   "execution_count": 12,
   "id": "a913e6e3",
   "metadata": {},
   "outputs": [
    {
     "data": {
      "text/plain": [
       "Old_banner  New_banner\n",
       "0           1             23\n",
       "1           0              7\n",
       "dtype: int64"
      ]
     },
     "execution_count": 12,
     "metadata": {},
     "output_type": "execute_result"
    }
   ],
   "source": [
    "# по распределению значений видно, что новый баннер выбирают чаще \n",
    "df.value_counts()"
   ]
  },
  {
   "cell_type": "markdown",
   "id": "ceefe195",
   "metadata": {
    "id": "ceefe195"
   },
   "source": [
    "## Задача 3. Немного АВ-тестов (3 балла)\n",
    "## Игра Cookie Cat"
   ]
  },
  {
   "cell_type": "markdown",
   "id": "7a6e5960",
   "metadata": {
    "id": "7a6e5960"
   },
   "source": [
    "В этом задании мы поработаем с данными Cookie Cats - популярной игры-головоломки, которую разработала компания Tactile Entertainment. В этой игре игрок должен соединять одинаковые элементы в ряд, чтобы очистить поле и выиграть уровень. "
   ]
  },
  {
   "cell_type": "markdown",
   "id": "f010877f",
   "metadata": {
    "id": "f010877f"
   },
   "source": [
    "<p style=\"align: center;\"><img align=center src=\"https://i.ytimg.com/vi/iPxZIp0cbJE/maxresdefault.jpg\"  width=500></p>\n",
    " \n",
    " \n",
    "<p style=\"align: center;\"><img align=center src=\"https://s3.amazonaws.com/assets.datacamp.com/production/project_184/img/cc_gates.png\"  width=500></p>\n"
   ]
  },
  {
   "cell_type": "markdown",
   "id": "45a869f8",
   "metadata": {
    "id": "45a869f8"
   },
   "source": [
    "По мере прохождения уровней перед игроками появляются ворота, открытия которых нужно ждать какое-то время или пропускать их, совершая покупки в приложении. С точки зрения создателей эти ворота повышают интерес к игре и стимулируют к вложению денег в игру.\n"
   ]
  },
  {
   "cell_type": "markdown",
   "id": "1992bbd9",
   "metadata": {
    "id": "1992bbd9"
   },
   "source": [
    "Но у создателей появляется важный вопрос: **где лучше всего ставить ворота?**\n",
    "Первоначально первые ворота были размещены на уровне 30. Однако есть гипотеза, что лучше переместить их на уровень 40. В этом задании вам предлагается проанализировать результаты AB-теста, в котором создатели переместили первые ворота в Cookie Cats с 30 уровня на уровень 40. "
   ]
  },
  {
   "cell_type": "markdown",
   "id": "0178c412",
   "metadata": {
    "id": "0178c412"
   },
   "source": [
    "**Данные получены от 90 189 игроков, которые установили игру во время проведения AB-теста. Переменные:**\n",
    "\n",
    "* `userid` - уникальный номер, идентифицирующий каждого игрока.\n",
    "\n",
    "* `version` - был ли игрок помещен в контрольную группу (gate_30 - ворота на уровне 30) или в тестовую группу (gate_40 - ворота на уровне 40).\n",
    "\n",
    "* `sum_gamerounds` - количество игровых раундов, сыгранных игроком в течение первой недели после установки\n",
    "* `retention_1` - вернулся ли игрок в игру через 1 день после установки\n",
    "* `retention_7` - вернулся ли игрок в игру через 7 дней после установки\n",
    "\n",
    "Когда игрок устанавливал игру, ему случайным образом назначали `gate_30` или `gate_40`."
   ]
  },
  {
   "cell_type": "code",
   "execution_count": null,
   "id": "5d32953b",
   "metadata": {
    "id": "5d32953b",
    "outputId": "e19bff24-d56e-419f-9197-a6169b9e1cf4"
   },
   "outputs": [],
   "source": [
    "import pandas as pd\n",
    "df = pd.read_csv('cookie_cats.csv')\n",
    "df.head()"
   ]
  },
  {
   "cell_type": "code",
   "execution_count": null,
   "id": "563bbcbb",
   "metadata": {
    "id": "563bbcbb",
    "outputId": "4467f65d-2988-455a-ebf0-ec78e3269d38"
   },
   "outputs": [],
   "source": [
    "df.info()"
   ]
  },
  {
   "cell_type": "code",
   "execution_count": null,
   "id": "9946c5da",
   "metadata": {},
   "outputs": [],
   "source": [
    "df.describe()"
   ]
  },
  {
   "cell_type": "code",
   "execution_count": null,
   "id": "66b1493b",
   "metadata": {},
   "outputs": [],
   "source": [
    "df.shape"
   ]
  },
  {
   "cell_type": "code",
   "execution_count": null,
   "id": "fa46e77e",
   "metadata": {},
   "outputs": [],
   "source": [
    "df.version.unique()"
   ]
  },
  {
   "cell_type": "markdown",
   "id": "198397bf",
   "metadata": {},
   "source": [
    "Выводы:\n",
    "1. Имеем 90 188 наблюдений\n",
    "2. Пропущенных значений нет\n",
    "3. Количественные переменные: userid и sum_gamerounds\n",
    "4. Качественные переменные: version, retention_1 и retention_7"
   ]
  },
  {
   "cell_type": "markdown",
   "id": "2bd5758d",
   "metadata": {
    "id": "2bd5758d"
   },
   "source": [
    "### Вопрос 1: есть ли зависимость между возвращаемостью игроков и расположением ворот?"
   ]
  },
  {
   "cell_type": "markdown",
   "id": "c5412061",
   "metadata": {
    "id": "c5412061"
   },
   "source": [
    "#### 1.1 Проверьте гипотезу для возвращения через день"
   ]
  },
  {
   "cell_type": "code",
   "execution_count": null,
   "id": "d6a7234a",
   "metadata": {},
   "outputs": [],
   "source": [
    "# Проверим сколько всего в среднем игроков возвращаются в игру:\n",
    "cr_znach = df['retention_1'].mean()\n",
    "cr_znach"
   ]
  },
  {
   "cell_type": "code",
   "execution_count": null,
   "id": "d35f788d",
   "metadata": {},
   "outputs": [],
   "source": [
    "# Проверим сколько в среднем по группам игроков возвращаются в игру:\n",
    "a = df['retention_1'].groupby(df['version'])\n",
    "b = df['retention_1'].groupby(df['version'])\n",
    "returns_1st_day = a.sum()/b.count()\n",
    "print(returns_1st_day)"
   ]
  },
  {
   "cell_type": "markdown",
   "id": "33956cfc",
   "metadata": {},
   "source": [
    "Этап 1: Получается что в срднем около половины игроков позвращаются в игру после первого дня. Развделив всех по группам, стало видно, что игроки с gate_30 (старая версия игры) чаще возвращались в игру, чем игроки с gate_40  (новая версия).\n",
    "\n",
    "Этап 2: проверим гипотезу о том, что игроки, играющие в старую версию возвращаются после первого дня чаще, чем игроки, играющие в новую версию игры. \n",
    "\n",
    "Тогда:\n",
    "\n",
    "    Нулевая гипотеза: зависимость между версией игры и возвращением в игру после первого дня \n",
    "    Альтернативная гипотеза: нет зависимости между версией игры и возвращением в игру после первого дня \n",
    "\n",
    "Этап 3: Выбор критерия.\n",
    "\n",
    "В связи с тем, что проверяется гипотеза о зависимости, то логичнее выбрать критерий независимости хи-квадрат Пирсона (непараметрический, chi2_contingency())"
   ]
  },
  {
   "cell_type": "code",
   "execution_count": null,
   "id": "8d512302",
   "metadata": {},
   "outputs": [],
   "source": [
    "#Строим таблицу сопряженности\n",
    "t = df.groupby('version')['retention_1'].value_counts().unstack()     \n",
    "print(t)\n",
    "\n",
    "# Игроки с gate_30 вернулись в игру 20034 раза\n",
    "# игроки с gate_40 вернулись в игру 20119 раз"
   ]
  },
  {
   "cell_type": "code",
   "execution_count": null,
   "id": "a1736bc1",
   "metadata": {},
   "outputs": [],
   "source": [
    "# Этап 4: считаем критерий\n",
    "stats.chi2_contingency(t, correction=False)"
   ]
  },
  {
   "cell_type": "markdown",
   "id": "284566b5",
   "metadata": {},
   "source": [
    "Таким образом, мы имеем:\n",
    "1. Значение статистики = 3.18\n",
    "2. p-value = 7% \n",
    "3. Уровень значимости = 1\n",
    "\n",
    "Н0 не отвергается на уровне значимости 1% (на 5% тоже). Значит игроки со старой версии игры (gate_30) возвращаются в игру после первого дня чаще, чем игроки с новой версией игры (gate_40)."
   ]
  },
  {
   "cell_type": "markdown",
   "id": "15ebcdad",
   "metadata": {
    "id": "15ebcdad"
   },
   "source": [
    "#### 2.2 Проверьте гипотезу для возвращения через семь дней"
   ]
  },
  {
   "cell_type": "code",
   "execution_count": null,
   "id": "08f2b7c7",
   "metadata": {},
   "outputs": [],
   "source": [
    "# Проверим сколько в среднем по группам игроков возвращаются в игру через 7 дней:\n",
    "a = df['retention_7'].groupby(df['version'])\n",
    "b = df['retention_7'].groupby(df['version'])\n",
    "returns_7st_day = a.sum()/b.count()\n",
    "print(returns_7st_day)"
   ]
  },
  {
   "cell_type": "markdown",
   "id": "983f396c",
   "metadata": {},
   "source": [
    "Нулевая гипотеза: зависимость между версией игры и возвращением в игру через семь дней\n",
    "\n",
    "Альтернативная гипотеза: нет зависимости между версией игры и возвращением в игру через семь дней "
   ]
  },
  {
   "cell_type": "code",
   "execution_count": null,
   "id": "1703de87",
   "metadata": {
    "id": "1703de87"
   },
   "outputs": [],
   "source": [
    "# Проверка выполняется аналогино.\n",
    "t2 = df.groupby('version')['retention_7'].value_counts().unstack()  \n",
    "stats.chi2_contingency(t2, correction=False)"
   ]
  },
  {
   "cell_type": "markdown",
   "id": "74f15a9f",
   "metadata": {},
   "source": [
    "Таким образом, мы имеем:\n",
    "1. Значение статистики = 10.013\n",
    "2. p-value = 0.1% \n",
    "3. Уровень значимости = 1\n",
    "\n",
    "Н0 отвергается на любом развумном уровне значимости. Значит игроки со старой версии игры (gate_30) возвращаются в игру через 7 дней чаще, чем игроки с новой версией игры (gate_40)."
   ]
  },
  {
   "cell_type": "markdown",
   "id": "498a3f1d",
   "metadata": {
    "id": "498a3f1d"
   },
   "source": [
    "### Вопрос 2: Отличается ли среднее количество раундов в группах gate_40 и gate_30?"
   ]
  },
  {
   "cell_type": "code",
   "execution_count": null,
   "id": "116f02ba",
   "metadata": {},
   "outputs": [],
   "source": [
    "df.head()"
   ]
  },
  {
   "cell_type": "code",
   "execution_count": null,
   "id": "4476641d",
   "metadata": {},
   "outputs": [],
   "source": [
    "df.shape"
   ]
  },
  {
   "cell_type": "code",
   "execution_count": null,
   "id": "a2504ebd",
   "metadata": {
    "id": "a2504ebd"
   },
   "outputs": [],
   "source": [
    "# Перед тем, как смотреть среднее число раундов, проверим имеются ли в данных выбросы. \n",
    "# Для этого визуализируем количество сыграных раундов через боксплот.\n",
    "\n",
    "df.boxplot('sum_gamerounds')\n",
    "plt.show()"
   ]
  },
  {
   "cell_type": "markdown",
   "id": "8c394f94",
   "metadata": {},
   "source": [
    "График показывает, что есть выброс в районе значения 50000, все остальные наблюдения находятся значительно ниже - ниже 10000. Его нужно будет удалить, например, ручную. "
   ]
  },
  {
   "cell_type": "code",
   "execution_count": null,
   "id": "a620190b",
   "metadata": {},
   "outputs": [],
   "source": [
    "df = df[(df['sum_gamerounds']<10000)] \n",
    "df.boxplot('sum_gamerounds')"
   ]
  },
  {
   "cell_type": "markdown",
   "id": "d0c76dd2",
   "metadata": {},
   "source": [
    "Теперь стало детальнее видно, что основное число наблюдений находится ниже 500. Чтобы привести распределение к нормальному, можно логарифмировать."
   ]
  },
  {
   "cell_type": "code",
   "execution_count": null,
   "id": "a5558790",
   "metadata": {},
   "outputs": [],
   "source": [
    "# логарифмируем\n",
    "df['sum_gamerounds'] = np.log1p(df['sum_gamerounds'].values)\n",
    "\n",
    "# посмотрим итог\n",
    "df.boxplot('sum_gamerounds')\n",
    "plt.show()"
   ]
  },
  {
   "cell_type": "code",
   "execution_count": null,
   "id": "1d053fcc",
   "metadata": {},
   "outputs": [],
   "source": [
    "# По графику boxplot видно,что распределение приблизилось к нормальному.\n",
    "# Посмотрим опсительную статистику, чтобы убедиться в этом. \n",
    "df['sum_gamerounds'].describe()"
   ]
  },
  {
   "cell_type": "markdown",
   "id": "37cee605",
   "metadata": {},
   "source": [
    "После того, как были удалены выбросы логарифмированием, мы получили нормальное распределение, значит можно переходить к тестированию гипотезы. \n",
    "\n",
    "Определим гипотезы:\n",
    "\n",
    "    Н0: среднее количество раундов в группах gate_30 равно среднему в группах gate_40\n",
    "    Н1: среднее количество раундов в группах gate_30 не равно среднему в группах gate_40\n",
    "    \n",
    "Подведем нужную информацию, для того, чтобы выбрать тест:\n",
    "1. Проверяем гипотезу о среднем \n",
    "2. Обе выборки независимые \n",
    "3. Большое число наблюдений\n",
    "\n",
    "Значит используем параметрический z-тест о среднем для независимых выборок ( ztest() )"
   ]
  },
  {
   "cell_type": "code",
   "execution_count": null,
   "id": "c0d09042",
   "metadata": {},
   "outputs": [],
   "source": [
    "from statsmodels.stats.weightstats import ztest "
   ]
  },
  {
   "cell_type": "code",
   "execution_count": null,
   "id": "35dcef83",
   "metadata": {},
   "outputs": [],
   "source": [
    "# Этап 1: сохранить в отдельные переменные выборки, с которыми будем работать.\n",
    "\n",
    "a_gate_30 = df[df['version'] == 'gate_30']['sum_gamerounds']\n",
    "b_gate_40 = df[df['version'] == 'gate_40']['sum_gamerounds']\n",
    "\n",
    "# Этап 2: посчитать z-тест.\n",
    "ztest(a_gate_30, b_gate_40, value=0)"
   ]
  },
  {
   "cell_type": "markdown",
   "id": "3c0ce332",
   "metadata": {},
   "source": [
    "Поскольку значение p-value = 7%, то на уровнях значимости 1%, 5% нулевая гипотеза не отвергается. Значит, среднее число раундов в группах одинаково. Посмотрим на графике так ли это.  "
   ]
  },
  {
   "cell_type": "code",
   "execution_count": null,
   "id": "79bc7da6",
   "metadata": {},
   "outputs": [],
   "source": [
    "# Этап 3. Проверка.\n",
    "\n",
    "# Напишем функцию, которая построит две гистограммы на одной картинке. \n",
    "# Они будут показывать распределение данных по каждой из групп. \n",
    "# Там же на графике посмотрим где располагаются значения средних.  \n",
    "\n",
    "def two_histograms_1(x, y):\n",
    "    x.hist (alpha=0.5, weights=[1./len(x)]*len(x) )\n",
    "    y.hist (alpha=0.5, weights=[1./len(y)]*len(y) )\n",
    "    plt.axvline(x.mean(), color='red', alpha=0.8, linestyle='dashed')\n",
    "    plt.axvline(y.mean(), color='blue', alpha=0.8, linestyle='dashed')\n",
    "    plt.legend([x.name, y.name])\n",
    "    \n",
    "# Выведем рядом с графиком значения средних по группам\n",
    "print(a_gate_30.mean(), b_gate_40.mean())\n",
    "# Поситроим гимтаграммы по группам gate_30 и gate_40:\n",
    "x = df[df['version'] == 'gate_30']['sum_gamerounds']\n",
    "y = df[df['version'] == 'gate_40']['sum_gamerounds']\n",
    "x.name, y.name = 'gate_30', 'gate_40'\n",
    "two_histograms_1(x, y)"
   ]
  },
  {
   "cell_type": "markdown",
   "id": "b5d9129f",
   "metadata": {},
   "source": [
    "Получается, что значения средних близки к друг к другу, но все же немного отличаются."
   ]
  },
  {
   "cell_type": "markdown",
   "id": "feeb4da9",
   "metadata": {},
   "source": [
    "### Вопрос 3: Отличается ли медианное количество раундов в группах gate_40 и gate_30?"
   ]
  },
  {
   "cell_type": "markdown",
   "id": "8f6c1cb2",
   "metadata": {},
   "source": [
    "Уже выше упоминалось о том, что у нас имеются независимые выборки.\n",
    "\n",
    "Для них существует несколько тестов: \n",
    "\n",
    "    z-test (параметрический, о среднем: ztest())\n",
    "    t-test (параметрический, о среднем: ttest_1samp() и ttest_ind(), о доле: proportions_ztest())\n",
    "    критерий Манна-Уитни (непараметрический, сравнение медиан: mannwhitneyu())\n",
    "В связи с тем, что проверяется гипотеза о медиане , то логичнее взять критерий Манна-Уитни.\n",
    "\n",
    "Сформулируем гипотезу:\n",
    "\n",
    "    Н0: медианное количество раундов в группе gate_30 равно медианному значению в группе gate_40\n",
    "    Н1: медианное количество раундов в группе gate_30 не равно медианному значению в группе gate_40 "
   ]
  },
  {
   "cell_type": "code",
   "execution_count": null,
   "id": "4b2cf915",
   "metadata": {},
   "outputs": [],
   "source": [
    "# Этап 1: сохранить в отдельные переменные выборки, с которыми будем работать. Аналогично с прошлым пунктом.\n",
    "a_gate_30 = df[df['version'] == 'gate_30']['sum_gamerounds']\n",
    "b_gate_40 = df[df['version'] == 'gate_40']['sum_gamerounds']\n",
    "\n",
    "# Этап 2: посчитаем для кадой группы медиану:\n",
    "\n",
    "median_gate_30 = a_gate_30.median()\n",
    "median_gate_40 = b_gate_40.median()\n",
    "print(median_gate_30, median_gate_40)\n",
    "\n",
    "# Этап 3: Изменим вышенаписанную функцию для построения гистограмм, так как там не показываются медианы. \n",
    "def two_histograms_2(x, y):\n",
    "    x.hist (alpha=0.5, weights=[1./len(x)]*len(x) )\n",
    "    y.hist (alpha=0.5, weights=[1./len(y)]*len(y) )\n",
    "    plt.axvline(x.median(), color='red', alpha=0.8, linestyle='dashed')\n",
    "    plt.axvline(y.median(), color='blue', alpha=0.8, linestyle='dashed')\n",
    "    plt.legend([x.name, y.name])\n",
    "\n",
    "# посмотрим на графике полученные значения:\n",
    "a_gate_30.name, b_gate_40.name = 'gate_30', 'gate_40'\n",
    "two_histograms_2(a_gate_30, b_gate_40)\n"
   ]
  },
  {
   "cell_type": "markdown",
   "id": "fe3b2717",
   "metadata": {},
   "source": [
    "    По графику видно, что распределение нормально, а медианы близки друг к дургу, значит, скорее всего гипотеза о равенстве медианных значений раундов в группах gate_40 и gate_30 подтвердиться. Проверим это, проведя тест. "
   ]
  },
  {
   "cell_type": "code",
   "execution_count": null,
   "id": "afe3ef78",
   "metadata": {},
   "outputs": [],
   "source": [
    "# Этап 4: проводим тест:\n",
    "stats.mannwhitneyu(a_gate_30, b_gate_40)"
   ]
  },
  {
   "cell_type": "markdown",
   "id": "ab94abcd",
   "metadata": {},
   "source": [
    "Получили, что значение p-value равно 5.0% - это говорит о том, что на уровнях значимости 1% и 5% гипотеза Н0 не отвергается. Таким образом, жействительно можно утверждать, что медианные значения раундов в группах равно друг другу.  "
   ]
  },
  {
   "cell_type": "markdown",
   "id": "03f0c2b4",
   "metadata": {
    "id": "03f0c2b4"
   },
   "source": [
    "## Задача 4: Время покемонов (3 балла)"
   ]
  },
  {
   "cell_type": "markdown",
   "id": "413f4923",
   "metadata": {
    "id": "413f4923"
   },
   "source": [
    "В данной задаче вам будет необходимо проанализировать различные характеристики покемонов и сравнить их между собой"
   ]
  },
  {
   "cell_type": "markdown",
   "id": "a253705e",
   "metadata": {
    "id": "a253705e"
   },
   "source": [
    "<p style=\"align: center;\"><img align=center src=\"https://proprikol.ru/wp-content/uploads/2020/11/kartinki-pokemonov-2.jpg\"  width=500></p>"
   ]
  },
  {
   "cell_type": "markdown",
   "id": "1810bfee",
   "metadata": {
    "id": "1810bfee"
   },
   "source": [
    "Покемоны - это маленькие существа, которые сражаются друг с другом на соревнованиях. Все покемоны имеют разные характеристики (сила атаки, защиты и т. д.) и относятся к одному или двум так называемым классам (вода, огонь и т. д.). Профессор Оук является изобретателем Pokedex, портативного устройства, которое хранит информацию обо всех существующих покемонах. Как его ведущий специалист по данным, Вы только что получили от него запрос с просьбой осуществить аналитику данных на всех устройствах Pokedex."
   ]
  },
  {
   "cell_type": "markdown",
   "id": "19045811",
   "metadata": {
    "id": "19045811"
   },
   "source": [
    "### Описание данных\n",
    "\n",
    "Профессор Оук скопировал все содержимое память одного устройства Pokedex, в результате чего получился набор данных, с которым Вы будете работать в этой задаче. В этом файле каждая строка представляет характеристики одного покемона:\n",
    "\n",
    "* pid: Numeric - ID покемона\n",
    "* HP: Numeric - Очки здоровья\n",
    "* Attack: Numeric - Сила обычной атаки\n",
    "* Defense: Numeric - Сила обычной защиты\n",
    "* Sp. Atk: Numeric - Сила специальной атаки\n",
    "* Sp. Def: Numeric - Сила специальной защиты\n",
    "* Speed: Numeric - Скорость движений\n",
    "* Legendary: Boolean - «True», если покемон редкий\n",
    "* Class 1: Categorical - Класс покемона\n",
    "* Class 2: Categorical - Класс покемона"
   ]
  },
  {
   "cell_type": "code",
   "execution_count": null,
   "id": "b286fea3",
   "metadata": {},
   "outputs": [],
   "source": [
    "df = pd.read_csv('pokemon.csv')\n",
    "df.head(999)"
   ]
  },
  {
   "cell_type": "code",
   "execution_count": null,
   "id": "71595961",
   "metadata": {},
   "outputs": [],
   "source": [
    "df.info() # в некоторых переменных есть выбросы"
   ]
  },
  {
   "cell_type": "code",
   "execution_count": null,
   "id": "fb0f0eaf",
   "metadata": {},
   "outputs": [],
   "source": [
    "df.shape   # большая выборка"
   ]
  },
  {
   "cell_type": "markdown",
   "id": "216b24ea",
   "metadata": {
    "id": "216b24ea"
   },
   "source": [
    "### Вопрос 1"
   ]
  },
  {
   "cell_type": "markdown",
   "id": "83dadefc",
   "metadata": {
    "id": "83dadefc"
   },
   "source": [
    "Профессор Оук подозревает, что покемоны в классе `grass` имеют более сильную обычную атаку, чем у покемонов в классе `rock`. Проверьте, прав ли он, и убедите его в своем выводе статистически. "
   ]
  },
  {
   "cell_type": "code",
   "execution_count": null,
   "id": "fb6a5007",
   "metadata": {
    "id": "fb6a5007"
   },
   "outputs": [],
   "source": [
    "# Этап 1: проверить данные на нормальность распределения. \n",
    "# Для этого объединим нужные нам данные в отдельные переменные и построим по ним графики\n",
    "\n",
    "# Объединяем\n",
    "PokeGrass = df.loc[df['Class 1'] == 'Grass']['Attack']\n",
    "PokeRock = df.loc[df['Class 1'] == 'Rock']['Attack']\n",
    "\n",
    "# Строим графикин\n",
    "PokeGrass.hist(alpha = 0.5, color = 'green', label ='Grass')\n",
    "PokeRock.hist(alpha = 0.5, color = 'red', label ='Rock')\n",
    "plt.legend()\n",
    "plt.show()"
   ]
  },
  {
   "cell_type": "markdown",
   "id": "48878df5",
   "metadata": {},
   "source": [
    "В связи с тем, что графики распределены не по нормальному распределению, то нужно попытаться их привести к таковому. Для этого попробуем пролагорифмировать данные и сново построить графики. "
   ]
  },
  {
   "cell_type": "code",
   "execution_count": null,
   "id": "2578f0bf",
   "metadata": {},
   "outputs": [],
   "source": [
    "# Этап 2: логарифмируем и строим график.\n",
    "\n",
    "PokeGrass = np.log(PokeGrass)\n",
    "PokeRock = np.log(PokeRock)\n",
    "PokeGrass.hist(alpha = 0.5, color = 'green', label ='Grass')\n",
    "PokeRock.hist(alpha = 0.5, color = 'red', label ='Rock')\n",
    "plt.legend()\n",
    "plt.show()"
   ]
  },
  {
   "cell_type": "markdown",
   "id": "266b4774",
   "metadata": {},
   "source": [
    " После логарифмирования распределение данных приблизилось к нормальному, хоть колокольчик и не идеальный, но его можно увидеть."
   ]
  },
  {
   "cell_type": "markdown",
   "id": "65db791a",
   "metadata": {},
   "source": [
    "По заданию нужно проверить, действительно ли покемоны в классе grass имеют более сильную обычную атаку, чем у покемонов в классе rock. Для этого сформулируем гипотезы.\n",
    "\n",
    "Этап 3: формулировка гипотезы.\n",
    "\n",
    "    Н0: медианные значения по группам равны (покемоны в классе grass имеют такую же силу обычной атаки, как и покемоны в классе rock)\n",
    "    Н1: меданные значения по группам не равны (сила обычной атаки у покемоны из класса grass отличается от силы обычной атаки у покемоной из класса rock)\n",
    "\n",
    "Этап 4: выбор критерия.\n",
    "\n",
    "Мы имеем: \n",
    "\n",
    "    1) две большие выборки \n",
    "    2) выборки независимы\n",
    "    3) имеем признак (сила атаки), который измерен в количественной шкале (количественный признак)\n",
    "\n",
    "Следовательно, по конспектам 5 лекции, можно сделать вывод о том, что в данном случае подойдет Критерий Манна-Уитни (непараметрический, mannwhitneyu())"
   ]
  },
  {
   "cell_type": "code",
   "execution_count": null,
   "id": "21053874",
   "metadata": {},
   "outputs": [],
   "source": [
    "# Этап 5. Посмотрим на графике располодение медианных значений силы обычной атаки в каждой из групп покемонов. \n",
    "\n",
    "def two_histograms_3(x, y):\n",
    "    x.hist (alpha=0.5, color='green',  stacked=True)\n",
    "    y.hist (alpha=0.5, color='red', stacked=True)\n",
    "    plt.axvline(x.median(), color='black', alpha=0.8, linestyle='dashed')\n",
    "    plt.axvline(y.median(), color='blue', alpha=0.8, linestyle='dashed')\n",
    "    plt.legend([x.name, y.name])\n",
    "\n",
    "print('Медианное значение для PokeGrass:', PokeGrass.mean())\n",
    "print('Медианное значение для PokeRock:', PokeRock.mean())\n",
    "PokeGrass.name, PokeRock.name = 'PokeGrass', 'PokeRock'\n",
    "two_histograms_3(PokeGrass, PokeRock)"
   ]
  },
  {
   "cell_type": "markdown",
   "id": "1752e783",
   "metadata": {},
   "source": [
    "Получается, что медианное значение силы обычной атаки у покемонов из группы rock сильнее (так как значение находится дальше от нуля), чем у покемонов из группы grass. Докажем это с помощью проведения теста Манна-Уитни. "
   ]
  },
  {
   "cell_type": "code",
   "execution_count": null,
   "id": "20f671e9",
   "metadata": {},
   "outputs": [],
   "source": [
    "# Этап 5: проведение теста.\n",
    "# H0: mediana grass = mediana rock\n",
    "# H1: mediana grass != mediana rock\n",
    "\n",
    "stats.mannwhitneyu(PokeGrass, PokeRock, alternative ='two-sided')"
   ]
  },
  {
   "cell_type": "markdown",
   "id": "3eee3503",
   "metadata": {},
   "source": [
    "    Результаты двустороннего теста: p-value = 0.5% < 1%, 5%, 10%... Следовательно на любом разумном уровне значимости Н0 отвергается, то есть силы обычных атак у групп покемонов grass и rock отличаются друг от дргуа (медианы не равны). \n",
    "\n",
    "Осталось выяснить в какой группе обычные атаки сильнее. Для этого переформулируем альтернативную гипотезу.\n",
    "\n",
    "alternative = 'less'. (Выбор такой альтернативы просиходил по аналогии с тем, как в семинаре 7 при проверке гипотезы о том, что время реакции на свет медленнее, чем на звук (т.е. реакция на свет лучше), выбиралась альтернатива 'less')\n",
    "\n",
    "    Н0: сила атаки у grass сильнее либо равна, чем  у rock  (grass >= rock)\n",
    "    Н1: сила атаки у grass слабее, чем у rock   (grass < rock)"
   ]
  },
  {
   "cell_type": "code",
   "execution_count": null,
   "id": "2595f28d",
   "metadata": {},
   "outputs": [],
   "source": [
    "stats.mannwhitneyu(PokeGrass, PokeRock, alternative = 'less')"
   ]
  },
  {
   "cell_type": "markdown",
   "id": "1243ec5b",
   "metadata": {},
   "source": [
    "Односторонний тест показал, что p-value = 0.2%< 1%, 5%, 10%..., а значит мы отвергаем Н0 на любом уровне значимости. Значит  grass атакуют слабее. Чтобы полностью убедиться в этом, попробуем проверить альтернативные гипотезы. \n",
    "\n",
    "    Н0: сила обычной атаки у grass слабее или равна силе обычной атаки rock\n",
    "    Н1: сила обычной атаки у grass сильнее, чем сила обычной атаки у rock"
   ]
  },
  {
   "cell_type": "code",
   "execution_count": null,
   "id": "a6160526",
   "metadata": {},
   "outputs": [],
   "source": [
    "# h0: grass <= rock\n",
    "# h1: grass > rock\n",
    "    \n",
    "stats.mannwhitneyu(PokeGrass, PokeRock, alternative = 'greater')"
   ]
  },
  {
   "cell_type": "markdown",
   "id": "b0a1f6c2",
   "metadata": {},
   "source": [
    "Тест показал, что p-value = 99%, а значит, на любом разумном уровне значимости Н0 не отвергается. Следовательно сила обычной атаки у grass меньше, чем у rock.\n",
    "\n",
    "    Таким образом, профессор Оук был не прав. "
   ]
  },
  {
   "cell_type": "markdown",
   "id": "efe3805e",
   "metadata": {
    "id": "efe3805e"
   },
   "source": [
    "### Вопрос 2"
   ]
  },
  {
   "cell_type": "markdown",
   "id": "baeb5aeb",
   "metadata": {
    "id": "baeb5aeb"
   },
   "source": [
    "Также профессор Оук очень хочет проверить, правда ли нет значимой разницы между силой обычной атаки и силой обычной защиты у покемонов. Помогите ему и ответьте на вопрос, подтвердив свои выводы с помощью проверки статистических гипотез"
   ]
  },
  {
   "cell_type": "code",
   "execution_count": null,
   "id": "124d12cc",
   "metadata": {},
   "outputs": [],
   "source": [
    "df[['Attack','Defense']].describe()"
   ]
  },
  {
   "cell_type": "code",
   "execution_count": null,
   "id": "737dea61",
   "metadata": {},
   "outputs": [],
   "source": [
    "# Этап 1: проверить данные на нормальность распределения. \n",
    "\n",
    "# Строим графики\n",
    "\n",
    "print('Среднее значение для PokeGrass:', df['Defense'].mean())\n",
    "print('Среднее значение для PokeRock:', df['Attack'].mean())\n",
    "\n",
    "plt.hist(df['Defense'], alpha = 0.5, color = 'green', label ='Defense')\n",
    "plt.hist(df['Attack'], alpha = 0.5, color = 'red', label ='Attack')\n",
    "plt.legend()\n",
    "plt.grid()\n",
    "plt.show()\n",
    "\n"
   ]
  },
  {
   "cell_type": "markdown",
   "id": "1122d61d",
   "metadata": {},
   "source": [
    "По графику видно, что распределение не нормально. Например, график Attack больше похож на хи-квадрат. \n",
    "\n",
    "Этап 2: определить гипотезы.\n",
    "\n",
    "    Н0: различий между силой обычной атаки и силой обычной защиты нету\n",
    "    Н1: различия есть\n",
    "\n",
    "Этап 3: выбрать критерий.\n",
    "\n",
    "Что имеем: \n",
    "1. Две связанные между собой выборки\n",
    "2. Большое число наблюдений\n",
    "Поскольку выборки связанны между собой, то могут подойти тесты: t-test (параметрический, о среднем: ttest_rel()), критерий Уилкоксона (непараметрический, сравнение медиан: wilcoxon()) и критерий знаков (непараметрический о медианах: sign_test()).\n",
    "t-test не подойдет, так как он для маленьких выборок. критерий знаков тоже не подойдет. \n",
    "\n",
    "Возьмем критерий Уилкоксона, данный тест проверяет гипотезу однородности. Наша эе задача - проверить есть ли разница в силе атак/защит (по сути это одна и та же формулировка). \n"
   ]
  },
  {
   "cell_type": "code",
   "execution_count": null,
   "id": "96aebf5f",
   "metadata": {},
   "outputs": [],
   "source": [
    " stats.wilcoxon(df['Attack'],df['Defense'])"
   ]
  },
  {
   "cell_type": "markdown",
   "id": "08d826e4",
   "metadata": {},
   "source": [
    "Двусторонний тест показал, что p-value = 7.57e-08 , то есть p-value близко к нулю. Следовательно на любом уровне значимости нулевая гипотеза отвергается. Теперь сформулируем альтернативную гипотезу:\n",
    "    \n",
    "    Н0: сила обычной атаки больше или равна силе обычной защиты\n",
    "    Н1: сила обычной атаки меньше, чем сила обычной защиты"
   ]
  },
  {
   "cell_type": "code",
   "execution_count": null,
   "id": "2f7daa7b",
   "metadata": {},
   "outputs": [],
   "source": [
    " stats.wilcoxon(df['Attack'],df['Defense'], alternative = 'less' )"
   ]
  },
  {
   "cell_type": "markdown",
   "id": "6cff7a73",
   "metadata": {},
   "source": [
    "Поскольку односторонний тест показал, что p-value = 99%, то нулевая гипотеза не отвергается на любом уровне значимости. Значит действительно, сила обычной атаки меньше, чем сила обычной защиты. Проверим последнюю альтернативную гипотезу:\n",
    "\n",
    "    Н0: сила обычной атаки меньше или равна силе обычной защиты\n",
    "    Н1: сила обычной атаки больше силы обычной защиты"
   ]
  },
  {
   "cell_type": "code",
   "execution_count": null,
   "id": "42d43f64",
   "metadata": {},
   "outputs": [],
   "source": [
    " stats.wilcoxon(df['Attack'],df['Defense'], alternative = 'greater' )"
   ]
  },
  {
   "cell_type": "markdown",
   "id": "a94ada77",
   "metadata": {},
   "source": [
    "Данный односторонний тест показал близкое к нулю значение p-value. Следовательно на любом разумном уровне значимости нулевая гипотеза отвергается. Следовательно сила обычной атаки больше силы обычной защиты."
   ]
  },
  {
   "cell_type": "code",
   "execution_count": null,
   "id": "7156e80a",
   "metadata": {},
   "outputs": [],
   "source": [
    "# Посмотрим данный вывад на графике. \n",
    "\n",
    "def two_histograms_3(x, y):\n",
    "    x.hist (alpha=0.5, color='green',  stacked=True)\n",
    "    y.hist (alpha=0.5, color='red', stacked=True)\n",
    "    plt.axvline(x.median(), color='black', alpha=0.8, linestyle='dashed')\n",
    "    plt.axvline(y.median(), color='blue', alpha=0.8, linestyle='dashed')\n",
    "    plt.legend([x.name, y.name])\n",
    "\n",
    "print('Медианное значение для Attack:', df['Attack'].mean())\n",
    "print('Медианное значение для Defense:', df['Defense'].mean())\n",
    "df['Attack'].name, df['Defense'].name = 'Attack', 'Defense'\n",
    "two_histograms_3(df['Defense'], df['Attack'])"
   ]
  },
  {
   "cell_type": "markdown",
   "id": "91811afd",
   "metadata": {},
   "source": [
    "Действительно, медианное значение силы обычной атаки лежит правее, чем медианное значение силы обычной защиты."
   ]
  },
  {
   "cell_type": "markdown",
   "id": "55c372da",
   "metadata": {
    "id": "55c372da"
   },
   "source": [
    "### Вопрос 3"
   ]
  },
  {
   "cell_type": "markdown",
   "id": "781cbb94",
   "metadata": {
    "id": "781cbb94"
   },
   "source": [
    "И последний вопрос, который мучает профессора Оука: правда ли, что средняя скорость покемонов превышает 66.6 ? Сформулируйте подходящие гипотезы и помогите профессору Оуку, ответив на вопрос."
   ]
  },
  {
   "cell_type": "code",
   "execution_count": null,
   "id": "bd09c79e",
   "metadata": {},
   "outputs": [],
   "source": [
    "# Этап 1: посмотрим как распределена величина.\n",
    "df['Speed'].hist()"
   ]
  },
  {
   "cell_type": "markdown",
   "id": "e3953eb3",
   "metadata": {},
   "source": [
    "Скорее всего есть выбросы, так как есть хвост около значения 175. Построим боксплот, чтобы детальнее разобрать данный момент."
   ]
  },
  {
   "cell_type": "code",
   "execution_count": null,
   "id": "29ab2867",
   "metadata": {},
   "outputs": [],
   "source": [
    "# Этап 2: работа с выбросами\n",
    "df.boxplot('Speed')\n",
    "plt.show()"
   ]
  },
  {
   "cell_type": "code",
   "execution_count": null,
   "id": "d96e0b59",
   "metadata": {},
   "outputs": [],
   "source": [
    "# Видим, что выбросы действительно есть. Удалим из вручную, чтобы не сильно урезать данные\n",
    "df = df[(df['Speed']<150)] \n",
    "df.boxplot('Speed')"
   ]
  },
  {
   "cell_type": "code",
   "execution_count": null,
   "id": "2c8c9e5a",
   "metadata": {},
   "outputs": [],
   "source": [
    "# Этап 3: посчитаем среднее значение, чтобы узнать, правда ли оно равняется 66.6\n",
    "df['Speed'].mean()"
   ]
  },
  {
   "cell_type": "markdown",
   "id": "a601529b",
   "metadata": {},
   "source": [
    "    Оказалось, что среднее значение немного больше чем то, которое упоминалось в условии задачи. \n",
    "    \n",
    "Этап 4: формулировка гипотезы.\n",
    "\n",
    "    Н0: средняя скорость покемонов превышает или равна 66.6\n",
    "    Н1: средняя скорость покемонов меньше 66.6\n",
    "\n",
    "Этап 5: выбор критерия. \n",
    "\n",
    "Поскольку проверяется гипотеза о среднем у больших независимых выборок, то выберем  параметрический z-test."
   ]
  },
  {
   "cell_type": "code",
   "execution_count": null,
   "id": "e62b50c5",
   "metadata": {},
   "outputs": [],
   "source": [
    "from statsmodels.stats.weightstats import ztest \n",
    "\n",
    "ztest(df['Speed'], value = 66.6, alternative = 'smaller')"
   ]
  },
  {
   "cell_type": "markdown",
   "id": "4c43cce9",
   "metadata": {},
   "source": [
    "Односторонний тест показал, что p-value = 84% , значит на любом разумном уровне значимости нулевая гипотеза не отвергается. Следовательно, дейстрвительно, средняя скорость покумонов превышает 66.6"
   ]
  }
 ],
 "metadata": {
  "colab": {
   "name": "DZ3_DS.ipynb",
   "provenance": []
  },
  "kernelspec": {
   "display_name": "Python 3 (ipykernel)",
   "language": "python",
   "name": "python3"
  },
  "language_info": {
   "codemirror_mode": {
    "name": "ipython",
    "version": 3
   },
   "file_extension": ".py",
   "mimetype": "text/x-python",
   "name": "python",
   "nbconvert_exporter": "python",
   "pygments_lexer": "ipython3",
   "version": "3.9.7"
  }
 },
 "nbformat": 4,
 "nbformat_minor": 5
}
